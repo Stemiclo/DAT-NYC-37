{
 "cells": [
  {
   "cell_type": "markdown",
   "metadata": {},
   "source": [
    "# Building a model to predict guest ridership\n",
    "\n",
    "### Given this data, do we improve the fit of our model (R^2)?"
   ]
  },
  {
   "cell_type": "code",
   "execution_count": 52,
   "metadata": {
    "collapsed": false
   },
   "outputs": [
    {
     "data": {
      "text/html": [
       "<div>\n",
       "<table border=\"1\" class=\"dataframe\">\n",
       "  <thead>\n",
       "    <tr style=\"text-align: right;\">\n",
       "      <th></th>\n",
       "      <th>instant</th>\n",
       "      <th>dteday</th>\n",
       "      <th>season</th>\n",
       "      <th>yr</th>\n",
       "      <th>mnth</th>\n",
       "      <th>hr</th>\n",
       "      <th>holiday</th>\n",
       "      <th>weekday</th>\n",
       "      <th>workingday</th>\n",
       "      <th>weathersit</th>\n",
       "      <th>temp</th>\n",
       "      <th>atemp</th>\n",
       "      <th>hum</th>\n",
       "      <th>windspeed</th>\n",
       "      <th>casual</th>\n",
       "      <th>registered</th>\n",
       "      <th>cnt</th>\n",
       "    </tr>\n",
       "  </thead>\n",
       "  <tbody>\n",
       "    <tr>\n",
       "      <th>0</th>\n",
       "      <td>1</td>\n",
       "      <td>2011-01-01</td>\n",
       "      <td>1</td>\n",
       "      <td>0</td>\n",
       "      <td>1</td>\n",
       "      <td>0</td>\n",
       "      <td>0</td>\n",
       "      <td>6</td>\n",
       "      <td>0</td>\n",
       "      <td>1</td>\n",
       "      <td>0.24</td>\n",
       "      <td>0.2879</td>\n",
       "      <td>0.81</td>\n",
       "      <td>0.0</td>\n",
       "      <td>3</td>\n",
       "      <td>13</td>\n",
       "      <td>16</td>\n",
       "    </tr>\n",
       "    <tr>\n",
       "      <th>1</th>\n",
       "      <td>2</td>\n",
       "      <td>2011-01-01</td>\n",
       "      <td>1</td>\n",
       "      <td>0</td>\n",
       "      <td>1</td>\n",
       "      <td>1</td>\n",
       "      <td>0</td>\n",
       "      <td>6</td>\n",
       "      <td>0</td>\n",
       "      <td>1</td>\n",
       "      <td>0.22</td>\n",
       "      <td>0.2727</td>\n",
       "      <td>0.80</td>\n",
       "      <td>0.0</td>\n",
       "      <td>8</td>\n",
       "      <td>32</td>\n",
       "      <td>40</td>\n",
       "    </tr>\n",
       "    <tr>\n",
       "      <th>2</th>\n",
       "      <td>3</td>\n",
       "      <td>2011-01-01</td>\n",
       "      <td>1</td>\n",
       "      <td>0</td>\n",
       "      <td>1</td>\n",
       "      <td>2</td>\n",
       "      <td>0</td>\n",
       "      <td>6</td>\n",
       "      <td>0</td>\n",
       "      <td>1</td>\n",
       "      <td>0.22</td>\n",
       "      <td>0.2727</td>\n",
       "      <td>0.80</td>\n",
       "      <td>0.0</td>\n",
       "      <td>5</td>\n",
       "      <td>27</td>\n",
       "      <td>32</td>\n",
       "    </tr>\n",
       "  </tbody>\n",
       "</table>\n",
       "</div>"
      ],
      "text/plain": [
       "   instant      dteday  season  yr  mnth  hr  holiday  weekday  workingday  \\\n",
       "0        1  2011-01-01       1   0     1   0        0        6           0   \n",
       "1        2  2011-01-01       1   0     1   1        0        6           0   \n",
       "2        3  2011-01-01       1   0     1   2        0        6           0   \n",
       "\n",
       "   weathersit  temp   atemp   hum  windspeed  casual  registered  cnt  \n",
       "0           1  0.24  0.2879  0.81        0.0       3          13   16  \n",
       "1           1  0.22  0.2727  0.80        0.0       8          32   40  \n",
       "2           1  0.22  0.2727  0.80        0.0       5          27   32  "
      ]
     },
     "execution_count": 52,
     "metadata": {},
     "output_type": "execute_result"
    }
   ],
   "source": [
    "# This should all be familiar by now...\n",
    "import numpy as np\n",
    "import pandas as pd\n",
    "import seaborn as sns\n",
    "from sklearn import linear_model, metrics\n",
    "\n",
    "import statsmodels.api as sm\n",
    "\n",
    "%matplotlib inline\n",
    "\n",
    "bike_data = pd.read_csv('https://github.com/ga-students/DAT-NYC-37/raw/master/lessons/lesson-07/assets/dataset/bikeshare.csv')\n",
    "bike_data.head(3)"
   ]
  },
  {
   "cell_type": "markdown",
   "metadata": {},
   "source": [
    "#### The following function was provided for you, however you should be familiar with each step of the function"
   ]
  },
  {
   "cell_type": "code",
   "execution_count": 53,
   "metadata": {
    "collapsed": true
   },
   "outputs": [],
   "source": [
    "from sklearn import feature_selection, linear_model\n",
    "\n",
    "# From last class...\n",
    "def get_linear_model_metrics(X, y):\n",
    "    # 1. Define and configure the model:\n",
    "    model = linear_model.LinearRegression()\n",
    "    f, pvals = feature_selection.f_regression(X, y)\n",
    "\n",
    "    # 2. Fit the model\n",
    "    model.fit(X, y)\n",
    "\n",
    "    # 3. Evaluate & score the model\n",
    "    residuals = (y - model.predict(X)).values\n",
    "\n",
    "    print 'P values:', pvals\n",
    "    print 'Coefficients:', model.coef_\n",
    "    print 'y-intercept:', model.intercept_\n",
    "    print 'R-Squared:', model.score(X,y)\n",
    "    print\n",
    "    \n",
    "    return model"
   ]
  },
  {
   "cell_type": "markdown",
   "metadata": {},
   "source": [
    "### Our starting point:\n",
    "\n",
    "*(This was done in class and provided for you)*\n",
    "\n",
    "- Select `atemp`, `hum`, and `weather` as features\n",
    "- `weather` is a 4 level factor (1, 2, 3, 4), so we converted it to a dummy variable and removed weather_4\n",
    "- `casual` Was defined as our target variable. (The number of riders in a given hour of the day)\n",
    "\n",
    "### The starter code you were given:"
   ]
  },
  {
   "cell_type": "code",
   "execution_count": 54,
   "metadata": {
    "collapsed": false
   },
   "outputs": [
    {
     "name": "stdout",
     "output_type": "stream",
     "text": [
      "P values: [  0.00000000e+00   0.00000000e+00   3.75616929e-73   3.43170021e-22\n",
      "   1.57718666e-55]\n",
      "Coefficients: [ -84.01121684  112.68901765  -24.68489063  -21.00314494  -21.71893628]\n",
      "y-intercept: 55.8412915804\n",
      "R-Squared: 0.311934605989\n",
      "\n"
     ]
    }
   ],
   "source": [
    "weather = pd.get_dummies(bike_data.weathersit)\n",
    "\n",
    "#create new names for our new dummy variables\n",
    "weather.columns = ['weather_' + str(i) for i in weather.columns]\n",
    "\n",
    "#join those new variables back into the larger dataset\n",
    "bikemodel_data = bike_data.join(weather)\n",
    "\n",
    "columns_to_keep = ['hum', 'temp', 'weather_1', 'weather_2', 'weather_3']\n",
    "\n",
    "X = bikemodel_data[columns_to_keep]  # Our input matrix\n",
    "y = bikemodel_data['casual'] # our target\n",
    "\n",
    "get_linear_model_metrics(X, y);"
   ]
  },
  {
   "cell_type": "markdown",
   "metadata": {},
   "source": [
    "## Starter code result\n",
    "\n",
    "So far, our baseline `R^2` is **`0.311`**. How much can we improve upon it?\n",
    "\n",
    "### A decent starting point:\n",
    "Intuitively, it seems like `workingday` would be a good a feature to choose since we'd expect more riders on such days."
   ]
  },
  {
   "cell_type": "code",
   "execution_count": 55,
   "metadata": {
    "collapsed": false
   },
   "outputs": [
    {
     "name": "stdout",
     "output_type": "stream",
     "text": [
      "P values: [  0.00000000e+00   0.00000000e+00   3.75616929e-73   3.43170021e-22\n",
      "   1.57718666e-55   0.00000000e+00]\n",
      "Coefficients: [ -84.14725133  117.70452779  -26.28394685  -21.25298575  -20.81182552\n",
      "  -34.25197022]\n",
      "y-intercept: 77.85987364\n",
      "R-Squared: 0.415888672027\n",
      "\n"
     ]
    }
   ],
   "source": [
    "columns_to_keep = ['hum', 'temp', 'weather_1', 'weather_2', 'weather_3', 'workingday']\n",
    "\n",
    "X = bikemodel_data[columns_to_keep]  # Our input matrix\n",
    "y = bikemodel_data['casual'] # our target\n",
    "\n",
    "get_linear_model_metrics(X, y);"
   ]
  },
  {
   "cell_type": "markdown",
   "metadata": {},
   "source": [
    "#### Great! By adding one feature, we've improved our R^2 to 0.4158"
   ]
  },
  {
   "cell_type": "markdown",
   "metadata": {},
   "source": [
    "### My Approach:\n",
    "\n",
    "In the starter code we \"One-Hot\" encoded (i.e. the \"dummy variables\") the `weathersit` categorical variable. However, this isn't the only categorical variable.\n",
    "\n",
    "Other categorical variables:\n",
    "    - season\n",
    "    - yr\n",
    "    - mnth\n",
    "    - weekday\n",
    "    - hr\n",
    "    \n",
    "Let's try encoding each of these into dummy variables, as we did with `weathersit` above\n",
    "\n",
    "*Question: Why am I One-Hot encoding `yr`, `mnth`, `weekday`, as if they are categorical?*"
   ]
  },
  {
   "cell_type": "code",
   "execution_count": 56,
   "metadata": {
    "collapsed": false
   },
   "outputs": [],
   "source": [
    "# Note: Same exact process as before, but now for the `season`, `weekday`, `hr`, `month` columns\n",
    "season = pd.get_dummies(bike_data.season)\n",
    "season.columns = ['season_' + str(i) for i in season.columns]\n",
    "\n",
    "weekday = pd.get_dummies(bike_data.weekday)\n",
    "weekday.columns = ['weekday_' + str(i) for i in weekday.columns]\n",
    "\n",
    "hr = pd.get_dummies(bike_data.hr)\n",
    "hr.columns = ['hr_' + str(i) for i in hr.columns]\n",
    "\n",
    "month = pd.get_dummies(bike_data.mnth)\n",
    "month.columns = ['month_' + str(i) for i in month.columns]\n",
    "\n",
    "#join those new variables back into the larger dataset\n",
    "bikemodel_data = pd.concat([bike_data, weather, season, month, hr, weekday], axis=1);"
   ]
  },
  {
   "cell_type": "markdown",
   "metadata": {},
   "source": [
    "Now that I've encoded my categorical variables and added the dummy variables to a copy of my original dataframe (`bikemodel_data`), I'm going to exclude the following columns from the original dataframe to produce the vector X:\n",
    "\n",
    "<div style=\"color: red;\">\n",
    "<h3>Important Note:</h3>\n",
    "\n",
    "<p>\n",
    "We should always discard one of the dummy variables? Why? Because that's all we need to encode the levels for each category. For instance, the categorical variable `weathersit` had 4 factors: 1, 2, 3, 4 but if we know 3 out of 4 of these values, then the remaining value can be deduced. For example, if I tell you it can ONLY be sunny, rainy, windy, or snowy on a given day and I also tell you that tomorrow's not going to be sunny, rainy, or windy, then what kind of day will it be tomorrow?\n",
    "</p>\n",
    "</div>\n",
    "\n",
    "If this is confusing, think about why we only needed one dummy variable for a boolean variable Size (IsLarge), not two dummy variables (IsSmall and IsLarge).\n",
    "\n",
    "**<p style=\"color: darkorange;\"> !! Key takeaway: If you have a categorical feature with k levels, you create k-1 dummy variables !!</p>**\n",
    "\n",
    "**Outcome variables:**\n",
    "\n",
    "    'casual',       # This is our target variable, which is an outcome and therefore not an independent variable\n",
    "    'registered',   # Also an outcome, not an independent variable.\n",
    "    'cnt'           # Also an outcome, not an independent variable (actually casual + registered)\n",
    "    \n",
    "**Index/id variables:**\n",
    "\n",
    "    'instant',    # This is just the row number\n",
    "    'dteday',     # This is a date column, and is neither categorical nor numerical. Furthermore, this information \n",
    "                  #  is already present in the `yr`, `mnth`, `weekday` columns\n",
    "    \n",
    "**Redundant/correlated variables**\n",
    "\n",
    "*Remember! When we create dummy variables we must remove one of them to prevent redundancy in our input data.*\n",
    "\n",
    "    'temp'        # Strongly correlated with atemp, so we only should keep atemp or temp (discussed in class)\n",
    "    'weather_4'\n",
    "    'season_4'   \n",
    "    'weekday_6'\n",
    "    'month_11'\n",
    "    'hr_23'\n",
    "    \n",
    "**Encoded variables**\n",
    "\n",
    "*Think about why we need to remove the following variables as well...*\n",
    "\n",
    "    'weathersit', \n",
    "    'season', \n",
    "    'weekday',\n",
    "    'workingday',\n",
    "    'hr',\n",
    "    'mnth'"
   ]
  },
  {
   "cell_type": "code",
   "execution_count": 59,
   "metadata": {
    "collapsed": false,
    "scrolled": false
   },
   "outputs": [
    {
     "name": "stdout",
     "output_type": "stream",
     "text": [
      "COLUMNS: yr holiday atemp hum windspeed weather_1 weather_2 weather_3 season_1 season_2 season_3 month_1 month_2 month_3 month_4 month_5 month_6 month_7 month_8 month_9 month_10 month_12 hr_1 hr_2 hr_3 hr_4 hr_5 hr_6 hr_7 hr_8 hr_9 hr_10 hr_11 hr_12 hr_13 hr_14 hr_15 hr_16 hr_17 hr_18 hr_19 hr_20 hr_21 hr_22 hr_23 weekday_0 weekday_1 weekday_2 weekday_3 weekday_4 weekday_5\n",
      "P values: [  8.09908774e-080   3.15814032e-005   0.00000000e+000   0.00000000e+000\n",
      "   8.66781628e-033   3.75616929e-073   3.43170021e-022   1.57718666e-055\n",
      "   7.90819136e-239   1.70941845e-060   1.20544330e-119   7.20393520e-107\n",
      "   6.04893370e-081   7.48894210e-006   9.89721401e-008   2.10345324e-034\n",
      "   2.02298294e-036   1.86526710e-043   6.89088813e-027   1.52784974e-026\n",
      "   8.70854193e-006   8.98402890e-067   6.64996464e-060   3.26347943e-066\n",
      "   3.30809960e-073   9.64851198e-080   2.34162115e-081   8.63420127e-070\n",
      "   2.84021955e-043   5.03259555e-015   7.51024245e-003   1.56865913e-009\n",
      "   9.55402696e-041   5.42563140e-075   1.83858247e-094   6.55214084e-112\n",
      "   3.08895832e-108   4.17937513e-102   6.03744699e-105   3.54290569e-046\n",
      "   2.37080976e-013   7.55377998e-001   3.33118416e-005   5.89308930e-014\n",
      "   1.88193460e-030   2.25058832e-113   7.57296501e-015   1.87083828e-039\n",
      "   1.44468004e-042   4.75688343e-032   4.03826417e-006]\n",
      "Coefficients: [  1.20291302e+01   2.17630827e+01   9.14984711e+01  -2.95004898e+01\n",
      "  -1.25343576e+01   3.49598338e+00   4.59809140e-02  -7.44530016e+00\n",
      "  -2.75525859e+00   6.78352082e+00  -3.12948364e-01  -5.62873798e+00\n",
      "  -6.99804755e+00   3.35015619e+00   1.13283139e+00   3.10824818e+00\n",
      "  -4.39359073e+00  -5.68875163e+00  -5.46736465e-01   6.60292100e+00\n",
      "   8.05666312e+00  -5.26203690e+00  -2.59110151e+00  -3.73022265e+00\n",
      "  -5.83355813e+00  -6.29863536e+00  -4.60554221e+00  -1.32249686e+00\n",
      "   4.87033043e+00   1.33648264e+01   1.98751419e+01   3.23915060e+01\n",
      "   4.23589007e+01   4.89268372e+01   5.10560444e+01   5.32038334e+01\n",
      "   5.22104500e+01   5.15171685e+01   5.34479472e+01   4.17567618e+01\n",
      "   3.13690126e+01   2.06612581e+01   1.42910776e+01   9.75810086e+00\n",
      "   4.15195321e+00  -5.73485151e+00  -3.69636464e+01  -3.98968945e+01\n",
      "  -3.96680203e+01  -3.97030895e+01  -3.15891950e+01]\n",
      "y-intercept: 9.86223309357\n",
      "R-Squared: 0.588176588448\n",
      "\n"
     ]
    }
   ],
   "source": [
    "# Define our input variable, X by excluding the columns listed above from our dataset:\n",
    "columns_to_drop = [\n",
    "        'instant',\n",
    "        'dteday',\n",
    "        'weather_4',\n",
    "        'season_4',\n",
    "        'weekday_6',\n",
    "        'month_11',\n",
    "        'hr_0',\n",
    "        'weathersit', \n",
    "        'season', \n",
    "        'weekday',\n",
    "        'workingday',\n",
    "        'hr',\n",
    "        'mnth',\n",
    "        'casual',\n",
    "        'registered', \n",
    "        'temp', \n",
    "        'cnt'\n",
    "    ]\n",
    "\n",
    "X = bikemodel_data.drop(columns_to_drop, axis=1)\n",
    "\n",
    "# We've only kept these columns\n",
    "print \"COLUMNS: \" + \" \".join(X.columns.values)\n",
    "\n",
    "get_linear_model_metrics(X, y);"
   ]
  },
  {
   "cell_type": "markdown",
   "metadata": {},
   "source": [
    "#### Our R^2 increased to `0.588`!\n",
    "\n",
    "### Note the following conditions hold:\n",
    "\n",
    "- We have small p-values for all  features\n",
    "- None of our coefficients have extremely large values nor are they close to zero.\n",
    "\n",
    "#### However! We haven't yet validated our model on data we haven't seen."
   ]
  },
  {
   "cell_type": "markdown",
   "metadata": {},
   "source": [
    "### Questions:\n",
    "\n",
    "1. Our R^2 ALWAYS increases when we add an input feature. Why? Is this necessarily a good thing? Why or why not?\n",
    "2. Rather than dropping our original `season` column, try keeping it in the input dataframe X by removing `'season'` from our `columns_to_exclude` list. What happens to our coefficients and why does this happen?\n",
    "3. Do the same thing for the `workingday`. Again explain what's causing any anomalies you see in our input dataframe X.\n",
    "4. It can be argued that `yr`, `mnth`, `weekday`, and `hr` are numerical variables, not categorical. Why did we treat them as categorical and are there any drawbacks to this approach?\n",
    "5. Our input vector `X` has 51 columns! Suppose we could only keep 6 columns in our input. Which columns would you keep and why?"
   ]
  }
 ],
 "metadata": {
  "kernelspec": {
   "display_name": "Python 2",
   "language": "python",
   "name": "python2"
  },
  "language_info": {
   "codemirror_mode": {
    "name": "ipython",
    "version": 2
   },
   "file_extension": ".py",
   "mimetype": "text/x-python",
   "name": "python",
   "nbconvert_exporter": "python",
   "pygments_lexer": "ipython2",
   "version": "2.7.11"
  }
 },
 "nbformat": 4,
 "nbformat_minor": 0
}
