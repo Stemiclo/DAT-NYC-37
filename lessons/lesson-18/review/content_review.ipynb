{
 "cells": [
  {
   "cell_type": "markdown",
   "metadata": {},
   "source": [
    "# Review Supervised Learning: Comparing Classifiers\n",
    "\n",
    "In this exercise, we review all classifiers we have learned so far, and test their performance on the 20-newsgroups dataset. \n",
    "\n",
    "Let's import all models."
   ]
  },
  {
   "cell_type": "code",
   "execution_count": 121,
   "metadata": {
    "collapsed": true
   },
   "outputs": [],
   "source": [
    "from sklearn.neighbors import KNeighborsClassifier\n",
    "from sklearn.linear_model import LogisticRegression\n",
    "from sklearn.tree import DecisionTreeClassifier\n",
    "from sklearn.ensemble import RandomForestClassifier"
   ]
  },
  {
   "cell_type": "markdown",
   "metadata": {},
   "source": [
    "Let's import the dataset. We use the keyword argument `categories=[...]` to limit our dataset. Omit this argument to load all twenty newsgroups."
   ]
  },
  {
   "cell_type": "code",
   "execution_count": 122,
   "metadata": {
    "collapsed": false,
    "scrolled": true
   },
   "outputs": [
    {
     "name": "stdout",
     "output_type": "stream",
     "text": [
      "['alt.atheism', 'comp.graphics', 'sci.space', 'talk.religion.misc']\n",
      "2034 newsgroups articles in 4 groups\n"
     ]
    }
   ],
   "source": [
    "from sklearn.datasets import fetch_20newsgroups\n",
    "\n",
    "categories = ['alt.atheism', 'sci.space', 'talk.religion.misc', 'comp.graphics']\n",
    "newsgroups = fetch_20newsgroups(subset='train', categories=categories)\n",
    "print newsgroups.target_names \n",
    "print len(newsgroups.data), 'newsgroups articles in', len(newsgroups.target_names), 'groups'"
   ]
  },
  {
   "cell_type": "markdown",
   "metadata": {},
   "source": [
    "The newsgroup articles are stored in `newsgroups.data`. These are actual messages.\n",
    "\n",
    "The target variables that we want to predict are in `newsgroups.target`. The number in `target` specifies the actual newsgroup in the `target_names`."
   ]
  },
  {
   "cell_type": "code",
   "execution_count": 123,
   "metadata": {
    "collapsed": false
   },
   "outputs": [
    {
     "data": {
      "image/png": "[encoded data removed]",
      "text/plain": [
       "<matplotlib.figure.Figure at 0x1167dbbd0>"
      ]
     },
     "metadata": {},
     "output_type": "display_data"
    }
   ],
   "source": [
    "import pandas as pd\n",
    "import seaborn as sns\n",
    "from matplotlib import pyplot as plt\n",
    "\n",
    "%matplotlib inline\n",
    "\n",
    "y = newsgroups.target\n",
    "groups = pd.Series(newsgroups.target_names)\n",
    "f = groups[y].value_counts(ascending=True).plot(kind='barh', title=\"Number of articles per newsgroup\")"
   ]
  },
  {
   "cell_type": "markdown",
   "metadata": {},
   "source": [
    "Since we're processing text, we need vectorizers that transform our text features into a usable feature matrix we can feed into our models. You could use `CountVectorizer` or `TfidfVectorizer`, which we both explained in more detail in [20_newsgroups.ipynb](../11_bayes/20_newsgroups.ipynb). \n",
    "\n",
    "Feel free to **try out different options**, such as `ngram_range=(0,3)`."
   ]
  },
  {
   "cell_type": "code",
   "execution_count": 124,
   "metadata": {
    "collapsed": false
   },
   "outputs": [],
   "source": [
    "from sklearn.feature_extraction.text import CountVectorizer, TfidfVectorizer\n",
    "\n",
    "cv = CountVectorizer()  # or TfidfVectorizer, or different options\n",
    "X = cv.fit_transform(newsgroups.data)"
   ]
  },
  {
   "cell_type": "markdown",
   "metadata": {},
   "source": [
    "Fit the model and measure cross-validated accuracy, or AUC. Feel free to **try out different options here** as well, such as the regularization parameter, kernels, etc."
   ]
  },
  {
   "cell_type": "markdown",
   "metadata": {},
   "source": [
    "### K-Fold CV\n",
    "\n",
    "http://scikit-learn.org/stable/modules/generated/sklearn.cross_validation.KFold.html"
   ]
  },
  {
   "cell_type": "code",
   "execution_count": 126,
   "metadata": {
    "collapsed": false
   },
   "outputs": [
    {
     "name": "stdout",
     "output_type": "stream",
     "text": [
      "Applying KFold cross-validation with 5 folds across 2034 samples\n",
      "\n",
      "Fold:  0\n",
      "\tTraining indexes: 407 - 2033\n",
      "\tTest indexes: 0 - 406\n",
      "\tKNN Model (50 neighbors) Score:  0.584766584767\n",
      "\n",
      "Fold:  1\n",
      "\tTraining indexes: 0 - 2033\n",
      "\tTest indexes: 407 - 813\n",
      "\tKNN Model (50 neighbors) Score:  0.552825552826\n",
      "\n",
      "Fold:  2\n",
      "\tTraining indexes: 0 - 2033\n",
      "\tTest indexes: 814 - 1220\n",
      "\tKNN Model (50 neighbors) Score:  0.560196560197\n",
      "\n",
      "Fold:  3\n",
      "\tTraining indexes: 0 - 2033\n",
      "\tTest indexes: 1221 - 1627\n",
      "\tKNN Model (50 neighbors) Score:  0.601965601966\n",
      "\n",
      "Fold:  4\n",
      "\tTraining indexes: 0 - 1627\n",
      "\tTest indexes: 1628 - 2033\n",
      "\tKNN Model (50 neighbors) Score:  0.581280788177\n",
      "\n",
      "\n",
      "MEAN SCORE: 0.576207017586\n"
     ]
    }
   ],
   "source": [
    "from sklearn.cross_validation import train_test_split, cross_val_score, KFold\n",
    "\n",
    "num_instances = len(newsgroups.data)\n",
    "num_folds = 5\n",
    "\n",
    "print \"Applying KFold cross-validation with %i folds across %i samples\" % (num_folds, num_instances)\n",
    "print\n",
    "\n",
    "folds = KFold(num_instances, n_folds=num_folds)\n",
    "\n",
    "i = 0\n",
    "scores = []\n",
    "for train_idxs, test_idxs in folds:\n",
    "    print \"Fold: \", i\n",
    "    print \"\\tTraining indexes:\", train_idxs.min(), \"-\", train_idxs.max()\n",
    "    print \"\\tTest indexes:\", test_idxs.min(), \"-\", test_idxs.max()\n",
    "    i += 1\n",
    "    \n",
    "    X_train, X_test = X[train_idxs], X[test_idxs]\n",
    "    y_train, y_test = y[train_idxs], y[test_idxs]\n",
    "    \n",
    "    model = KNeighborsClassifier(n_neighbors=50)\n",
    "    model.fit(X_train, y_train)\n",
    "    \n",
    "    score = model.score(X_test, y_test)\n",
    "    scores.append(score)\n",
    "    \n",
    "    print \"\\tKNN Model (50 neighbors) Score: \", score\n",
    "    print\n",
    "\n",
    "print\n",
    "print \"MEAN SCORE:\", sum(scores) / len(scores)"
   ]
  },
  {
   "cell_type": "markdown",
   "metadata": {},
   "source": [
    "**The above code is equivalent to:**"
   ]
  },
  {
   "cell_type": "code",
   "execution_count": 127,
   "metadata": {
    "collapsed": false
   },
   "outputs": [
    {
     "name": "stdout",
     "output_type": "stream",
     "text": [
      "Mean Score 0.559010378995\n"
     ]
    }
   ],
   "source": [
    "model = KNeighborsClassifier(n_neighbors=50)\n",
    "print \"Mean Score\", cross_val_score(model, X, y, scoring='accuracy').mean()"
   ]
  },
  {
   "cell_type": "markdown",
   "metadata": {},
   "source": [
    "Obviously you can do better than that.\n",
    "\n",
    "### Grid Search over many values of k, using both 'uniform' and 'distance' weighting"
   ]
  },
  {
   "cell_type": "code",
   "execution_count": 128,
   "metadata": {
    "collapsed": false
   },
   "outputs": [
    {
     "data": {
      "text/plain": [
       "GridSearchCV(cv=3, error_score='raise',\n",
       "       estimator=KNeighborsClassifier(algorithm='auto', leaf_size=30, metric='minkowski',\n",
       "           metric_params=None, n_jobs=1, n_neighbors=5, p=2,\n",
       "           weights='uniform'),\n",
       "       fit_params={}, iid=True, n_jobs=1,\n",
       "       param_grid=[{'n_neighbors': [2, 3, 4, 5, 6, 7, 8, 9, 10, 11, 12, 13, 14, 15, 16, 17, 18, 19, 20, 21, 22, 23, 24, 25, 26, 27, 28, 29, 30, 31, 32, 33, 34, 35, 36, 37, 38, 39, 40, 41, 42, 43, 44, 45, 46, 47, 48, 49, 50, 51, 52, 53, 54, 55, 56, 57, 58, 59, 60, 61, 62, 63, 64, 65, 66, 67, 68, 69], 'weights': ['uniform', 'distance']}],\n",
       "       pre_dispatch='2*n_jobs', refit=True, scoring=None, verbose=0)"
      ]
     },
     "execution_count": 128,
     "metadata": {},
     "output_type": "execute_result"
    }
   ],
   "source": [
    "from sklearn.grid_search import GridSearchCV\n",
    "from sklearn.metrics import classification_report\n",
    "\n",
    "parameter_grid = [\n",
    "  {\n",
    "        'n_neighbors': range(2, 70),\n",
    "        'weights': ['uniform', 'distance']\n",
    "  }\n",
    " ]\n",
    "\n",
    "clf = GridSearchCV(KNeighborsClassifier(), parameter_grid, cv=3)\n",
    "clf.fit(X_train, y_train)"
   ]
  },
  {
   "cell_type": "code",
   "execution_count": 129,
   "metadata": {
    "collapsed": false
   },
   "outputs": [
    {
     "name": "stdout",
     "output_type": "stream",
     "text": [
      "\n",
      "GRID SEARCH RESULTS:\n",
      "\tBest Parameters {'n_neighbors': 2, 'weights': 'distance'}\n",
      "\tBest Score 0.719287469287\n"
     ]
    },
    {
     "data": {
      "text/html": [
       "<div>\n",
       "<table border=\"1\" class=\"dataframe\">\n",
       "  <thead>\n",
       "    <tr style=\"text-align: right;\">\n",
       "      <th></th>\n",
       "      <th>parameters</th>\n",
       "      <th>mean_validation_score</th>\n",
       "      <th>cv_validation_scores</th>\n",
       "    </tr>\n",
       "  </thead>\n",
       "  <tbody>\n",
       "    <tr>\n",
       "      <th>0</th>\n",
       "      <td>{u'n_neighbors': 2, u'weights': u'uniform'}</td>\n",
       "      <td>0.666462</td>\n",
       "      <td>[0.648897058824, 0.675874769797, 0.674676524954]</td>\n",
       "    </tr>\n",
       "    <tr>\n",
       "      <th>1</th>\n",
       "      <td>{u'n_neighbors': 2, u'weights': u'distance'}</td>\n",
       "      <td>0.719287</td>\n",
       "      <td>[0.661764705882, 0.756906077348, 0.739371534196]</td>\n",
       "    </tr>\n",
       "    <tr>\n",
       "      <th>2</th>\n",
       "      <td>{u'n_neighbors': 3, u'weights': u'uniform'}</td>\n",
       "      <td>0.678747</td>\n",
       "      <td>[0.634191176471, 0.705340699816, 0.69685767098]</td>\n",
       "    </tr>\n",
       "    <tr>\n",
       "      <th>3</th>\n",
       "      <td>{u'n_neighbors': 3, u'weights': u'distance'}</td>\n",
       "      <td>0.705160</td>\n",
       "      <td>[0.685661764706, 0.716390423573, 0.713493530499]</td>\n",
       "    </tr>\n",
       "    <tr>\n",
       "      <th>4</th>\n",
       "      <td>{u'n_neighbors': 4, u'weights': u'uniform'}</td>\n",
       "      <td>0.683047</td>\n",
       "      <td>[0.691176470588, 0.672191528545, 0.685767097967]</td>\n",
       "    </tr>\n",
       "  </tbody>\n",
       "</table>\n",
       "</div>"
      ],
      "text/plain": [
       "                                     parameters  mean_validation_score  \\\n",
       "0   {u'n_neighbors': 2, u'weights': u'uniform'}               0.666462   \n",
       "1  {u'n_neighbors': 2, u'weights': u'distance'}               0.719287   \n",
       "2   {u'n_neighbors': 3, u'weights': u'uniform'}               0.678747   \n",
       "3  {u'n_neighbors': 3, u'weights': u'distance'}               0.705160   \n",
       "4   {u'n_neighbors': 4, u'weights': u'uniform'}               0.683047   \n",
       "\n",
       "                               cv_validation_scores  \n",
       "0  [0.648897058824, 0.675874769797, 0.674676524954]  \n",
       "1  [0.661764705882, 0.756906077348, 0.739371534196]  \n",
       "2   [0.634191176471, 0.705340699816, 0.69685767098]  \n",
       "3  [0.685661764706, 0.716390423573, 0.713493530499]  \n",
       "4  [0.691176470588, 0.672191528545, 0.685767097967]  "
      ]
     },
     "execution_count": 129,
     "metadata": {},
     "output_type": "execute_result"
    }
   ],
   "source": [
    "print\n",
    "print \"GRID SEARCH RESULTS:\"\n",
    "print \"\\tBest Parameters\", clf.best_params_\n",
    "print \"\\tBest Score\", clf.best_score_\n",
    "\n",
    "# A list of all scores are stored in clf.grid_scores_\n",
    "pd.DataFrame(clf.grid_scores_).head()"
   ]
  },
  {
   "cell_type": "code",
   "execution_count": 119,
   "metadata": {
    "collapsed": false
   },
   "outputs": [
    {
     "data": {
      "text/html": [
       "<div>\n",
       "<table border=\"1\" class=\"dataframe\">\n",
       "  <thead>\n",
       "    <tr style=\"text-align: right;\">\n",
       "      <th></th>\n",
       "      <th>n_neighbors</th>\n",
       "      <th>weights</th>\n",
       "      <th>score</th>\n",
       "    </tr>\n",
       "  </thead>\n",
       "  <tbody>\n",
       "    <tr>\n",
       "      <th>0</th>\n",
       "      <td>2</td>\n",
       "      <td>uniform</td>\n",
       "      <td>0.666462</td>\n",
       "    </tr>\n",
       "    <tr>\n",
       "      <th>1</th>\n",
       "      <td>2</td>\n",
       "      <td>distance</td>\n",
       "      <td>0.719287</td>\n",
       "    </tr>\n",
       "    <tr>\n",
       "      <th>2</th>\n",
       "      <td>3</td>\n",
       "      <td>uniform</td>\n",
       "      <td>0.678747</td>\n",
       "    </tr>\n",
       "    <tr>\n",
       "      <th>3</th>\n",
       "      <td>3</td>\n",
       "      <td>distance</td>\n",
       "      <td>0.705160</td>\n",
       "    </tr>\n",
       "    <tr>\n",
       "      <th>4</th>\n",
       "      <td>4</td>\n",
       "      <td>uniform</td>\n",
       "      <td>0.683047</td>\n",
       "    </tr>\n",
       "  </tbody>\n",
       "</table>\n",
       "</div>"
      ],
      "text/plain": [
       "   n_neighbors   weights     score\n",
       "0            2   uniform  0.666462\n",
       "1            2  distance  0.719287\n",
       "2            3   uniform  0.678747\n",
       "3            3  distance  0.705160\n",
       "4            4   uniform  0.683047"
      ]
     },
     "execution_count": 119,
     "metadata": {},
     "output_type": "execute_result"
    }
   ],
   "source": [
    "# Cleanup the dataframe so we can plot\n",
    "scores_df = pd.DataFrame(columns=[\"n_neighbors\", \"weights\", \"score\"])\n",
    "\n",
    "for grid_score in clf.grid_scores_:\n",
    "    scores_df = scores_df.append({\n",
    "            \"n_neighbors\": grid_score.parameters[\"n_neighbors\"], \n",
    "            \"weights\": grid_score.parameters[\"weights\"], \n",
    "            \"score\": grid_score.mean_validation_score\n",
    "        }, ignore_index=True)\n",
    "\n",
    "\n",
    "scores_df[\"n_neighbors\"] = scores_df[\"n_neighbors\"].astype(np.int)\n",
    "scores_df.head()"
   ]
  },
  {
   "cell_type": "code",
   "execution_count": 120,
   "metadata": {
    "collapsed": false
   },
   "outputs": [
    {
     "data": {
      "image/png": "[encoded data removed]",
      "text/plain": [
       "<matplotlib.figure.Figure at 0x1179bbed0>"
      ]
     },
     "metadata": {},
     "output_type": "display_data"
    }
   ],
   "source": [
    "plt.figure(figsize=(18, 10))\n",
    "sns.pointplot(data=scores_df, x=\"n_neighbors\", y=\"score\", hue=\"weights\", scale=0.4);"
   ]
  },
  {
   "cell_type": "markdown",
   "metadata": {},
   "source": [
    "## Exercise\n",
    "\n",
    "1. Given the above distribution of newsgroups (the `y`s), what is reasonable accuracy to expect? What would a naive classier's (random guesser) accuracy be?\n",
    "1. Try out different models, testing their cross-validated accuracy\n",
    "1. Try out different options (such as regularization parameters, kernels, etc.)\n",
    "1. Try out different text vectorizers and options\n",
    "1. If you find a model you like, try different categories (or all of them) and see if this impacts your performance\n",
    "1. Try to interpret its learned parameters and plot some nice insights\n",
    "\n",
    "## Bonus\n",
    "1. Evaluate all 4 models in a single step using GridSearch\n",
    "\n",
    "For interpretation, recall that\n",
    "- LogisticRegression gives you coefficients for the log odds of the corresponding feature\n",
    "- Random Forests and Decision Trees give you feature importances"
   ]
  },
  {
   "cell_type": "code",
   "execution_count": 7,
   "metadata": {
    "collapsed": true
   },
   "outputs": [],
   "source": [
    "# Your code here"
   ]
  },
  {
   "cell_type": "code",
   "execution_count": null,
   "metadata": {
    "collapsed": true
   },
   "outputs": [],
   "source": []
  },
  {
   "cell_type": "code",
   "execution_count": null,
   "metadata": {
    "collapsed": true
   },
   "outputs": [],
   "source": []
  },
  {
   "cell_type": "code",
   "execution_count": null,
   "metadata": {
    "collapsed": true
   },
   "outputs": [],
   "source": []
  },
  {
   "cell_type": "code",
   "execution_count": null,
   "metadata": {
    "collapsed": true
   },
   "outputs": [],
   "source": []
  }
 ],
 "metadata": {
  "kernelspec": {
   "display_name": "Python 2",
   "language": "python",
   "name": "python2"
  },
  "language_info": {
   "codemirror_mode": {
    "name": "ipython",
    "version": 2
   },
   "file_extension": ".py",
   "mimetype": "text/x-python",
   "name": "python",
   "nbconvert_exporter": "python",
   "pygments_lexer": "ipython2",
   "version": "2.7.11"
  }
 },
 "nbformat": 4,
 "nbformat_minor": 0
}
