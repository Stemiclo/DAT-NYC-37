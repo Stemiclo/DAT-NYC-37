{
 "cells": [
  {
   "cell_type": "markdown",
   "metadata": {},
   "source": [
    "# Review Supervised Learning: Comparing Classifiers\n",
    "\n",
    "In this exercise, we review all classifiers we have learned so far, and test their performance on the 20-newsgroups dataset (http://qwone.com/~jason/20Newsgroups/). \n",
    "\n",
    "Let's import all models."
   ]
  },
  {
   "cell_type": "code",
   "execution_count": 136,
   "metadata": {
    "collapsed": true
   },
   "outputs": [],
   "source": [
    "from sklearn.neighbors import KNeighborsClassifier\n",
    "from sklearn.linear_model import LogisticRegression\n",
    "from sklearn.tree import DecisionTreeClassifier\n",
    "from sklearn.ensemble import RandomForestClassifier"
   ]
  },
  {
   "cell_type": "markdown",
   "metadata": {},
   "source": [
    "Let's import the dataset. We use the keyword argument `categories=[...]` to limit our dataset. Omit this argument to load all twenty newsgroups."
   ]
  },
  {
   "cell_type": "code",
   "execution_count": 138,
   "metadata": {
    "collapsed": false,
    "scrolled": true
   },
   "outputs": [
    {
     "name": "stdout",
     "output_type": "stream",
     "text": [
      "['alt.atheism', 'comp.graphics', 'sci.space', 'talk.religion.misc']\n",
      "2034 newsgroups articles in 4 groups\n"
     ]
    }
   ],
   "source": [
    "from sklearn.datasets import fetch_20newsgroups\n",
    "\n",
    "categories = ['alt.atheism', 'sci.space', 'talk.religion.misc', 'comp.graphics']\n",
    "newsgroups = fetch_20newsgroups(subset='train', categories=categories)\n",
    "\n",
    "print newsgroups.target_names\n",
    "print len(newsgroups.data), 'newsgroups articles in', len(newsgroups.target_names), 'groups'"
   ]
  },
  {
   "cell_type": "markdown",
   "metadata": {},
   "source": [
    "The newsgroup articles are stored in `newsgroups.data`. These are actual messages.\n",
    "\n",
    "The target variables that we want to predict are in `newsgroups.target`. The number in `target` specifies the actual newsgroup in the `target_names`."
   ]
  },
  {
   "cell_type": "code",
   "execution_count": 123,
   "metadata": {
    "collapsed": false
   },
   "outputs": [
    {
     "data": {
      "image/png": "[encoded data removed]",
      "text/plain": [
       "<matplotlib.figure.Figure at 0x1167dbbd0>"
      ]
     },
     "metadata": {},
     "output_type": "display_data"
    }
   ],
   "source": [
    "import pandas as pd\n",
    "import seaborn as sns\n",
    "from matplotlib import pyplot as plt\n",
    "\n",
    "%matplotlib inline\n",
    "\n",
    "y = newsgroups.target\n",
    "groups = pd.Series(newsgroups.target_names)\n",
    "f = groups[y].value_counts(ascending=True).plot(kind='barh', title=\"Number of articles per newsgroup\")"
   ]
  },
  {
   "cell_type": "code",
   "execution_count": 161,
   "metadata": {
    "collapsed": false
   },
   "outputs": [
    {
     "data": {
      "text/plain": [
       "2    0.291544\n",
       "1    0.287119\n",
       "0    0.235988\n",
       "3    0.185349\n",
       "dtype: float64"
      ]
     },
     "execution_count": 161,
     "metadata": {},
     "output_type": "execute_result"
    }
   ],
   "source": [
    "pd.Series(newsgroups.target).value_counts() / len(pd.Series(newsgroups.target))"
   ]
  },
  {
   "cell_type": "markdown",
   "metadata": {},
   "source": [
    "Since we're processing text, we need vectorizers that transform our text features into a usable feature matrix we can feed into our models. You could use `CountVectorizer` or `TfidfVectorizer`, which we both explained in more detail in [20_newsgroups.ipynb](../11_bayes/20_newsgroups.ipynb). \n",
    "\n",
    "Feel free to **try out different options**, such as `ngram_range=(0,3)`."
   ]
  },
  {
   "cell_type": "code",
   "execution_count": 141,
   "metadata": {
    "collapsed": false
   },
   "outputs": [
    {
     "data": {
      "text/plain": [
       "matrix([[0, 0, 0, ..., 0, 0, 0],\n",
       "        [0, 0, 0, ..., 0, 0, 0],\n",
       "        [0, 0, 0, ..., 0, 0, 0],\n",
       "        ..., \n",
       "        [0, 0, 0, ..., 0, 0, 0],\n",
       "        [0, 0, 0, ..., 0, 0, 0],\n",
       "        [0, 0, 0, ..., 0, 0, 0]])"
      ]
     },
     "execution_count": 141,
     "metadata": {},
     "output_type": "execute_result"
    }
   ],
   "source": [
    "from sklearn.feature_extraction.text import CountVectorizer, TfidfVectorizer\n",
    "\n",
    "cv = CountVectorizer()  # or TfidfVectorizer, or different options\n",
    "X = cv.fit_transform(newsgroups.data)\n",
    "\n",
    "# X.todense()[:50]"
   ]
  },
  {
   "cell_type": "markdown",
   "metadata": {},
   "source": [
    "Fit the model and measure cross-validated accuracy, or AUC. Feel free to **try out different options here** as well, such as the regularization parameter, kernels, etc."
   ]
  },
  {
   "cell_type": "markdown",
   "metadata": {},
   "source": [
    "### K-Fold CV\n",
    "\n",
    "http://scikit-learn.org/stable/modules/generated/sklearn.cross_validation.KFold.html"
   ]
  },
  {
   "cell_type": "code",
   "execution_count": 143,
   "metadata": {
    "collapsed": false
   },
   "outputs": [
    {
     "name": "stdout",
     "output_type": "stream",
     "text": [
      "Applying KFold cross-validation with 5 folds across 2034 samples\n",
      "\n",
      "Fold:  0\n",
      "\tTraining indexes: 407 - 2033\n",
      "\tTest indexes: 0 - 406\n",
      "\tKNN Model (50 neighbors) Score:  0.584766584767\n",
      "\n",
      "Fold:  1\n",
      "\tTraining indexes: 0 - 2033\n",
      "\tTest indexes: 407 - 813\n",
      "\tKNN Model (50 neighbors) Score:  0.552825552826\n",
      "\n",
      "Fold:  2\n",
      "\tTraining indexes: 0 - 2033\n",
      "\tTest indexes: 814 - 1220\n",
      "\tKNN Model (50 neighbors) Score:  0.560196560197\n",
      "\n",
      "Fold:  3\n",
      "\tTraining indexes: 0 - 2033\n",
      "\tTest indexes: 1221 - 1627\n",
      "\tKNN Model (50 neighbors) Score:  0.601965601966\n",
      "\n",
      "Fold:  4\n",
      "\tTraining indexes: 0 - 1627\n",
      "\tTest indexes: 1628 - 2033\n",
      "\tKNN Model (50 neighbors) Score:  0.581280788177\n",
      "\n",
      "\n",
      "MEAN SCORE: 0.576207017586\n"
     ]
    }
   ],
   "source": [
    "from sklearn.cross_validation import train_test_split, cross_val_score, KFold\n",
    "\n",
    "num_instances = len(newsgroups.data)\n",
    "num_folds = 5\n",
    "\n",
    "print \"Applying KFold cross-validation with %i folds across %i samples\" % (num_folds, num_instances)\n",
    "print\n",
    "\n",
    "folds = KFold(num_instances, n_folds=num_folds)\n",
    "\n",
    "i = 0\n",
    "scores = []\n",
    "\n",
    "for train_idxs, test_idxs in folds:\n",
    "    print \"Fold: \", i\n",
    "    print \"\\tTraining indexes:\", train_idxs.min(), \"-\", train_idxs.max()\n",
    "    print \"\\tTest indexes:\", test_idxs.min(), \"-\", test_idxs.max()\n",
    "    i += 1\n",
    "    \n",
    "    X_train, X_test = X[train_idxs], X[test_idxs]\n",
    "    y_train, y_test = y[train_idxs], y[test_idxs]\n",
    "    \n",
    "    model = KNeighborsClassifier(n_neighbors=50)\n",
    "    model.fit(X_train, y_train)\n",
    "    \n",
    "    score = model.score(X_test, y_test)\n",
    "    scores.append(score)\n",
    "    \n",
    "    print \"\\tKNN Model (50 neighbors) Score: \", score\n",
    "    print\n",
    "\n",
    "print\n",
    "print \"MEAN SCORE:\", sum(scores) / len(scores)"
   ]
  },
  {
   "cell_type": "markdown",
   "metadata": {},
   "source": [
    "**The above code is equivalent to:**"
   ]
  },
  {
   "cell_type": "code",
   "execution_count": 149,
   "metadata": {
    "collapsed": false
   },
   "outputs": [
    {
     "name": "stdout",
     "output_type": "stream",
     "text": [
      "<type 'numpy.ndarray'>\n",
      "Mean Score 0.588536206403\n"
     ]
    }
   ],
   "source": [
    "model = KNeighborsClassifier(n_neighbors=50, weights='distance')\n",
    "scores = cross_val_score(model, X, y, scoring='accuracy', cv=5)\n",
    "print type(scores)\n",
    "\n",
    "print \"Mean Score\", scores.mean()"
   ]
  },
  {
   "cell_type": "markdown",
   "metadata": {},
   "source": [
    "Obviously you can do better than that.\n",
    "\n",
    "### Grid Search over many values of k, using both 'uniform' and 'distance' weighting"
   ]
  },
  {
   "cell_type": "code",
   "execution_count": 152,
   "metadata": {
    "collapsed": false
   },
   "outputs": [
    {
     "data": {
      "text/plain": [
       "GridSearchCV(cv=3, error_score='raise',\n",
       "       estimator=KNeighborsClassifier(algorithm='auto', leaf_size=30, metric='minkowski',\n",
       "           metric_params=None, n_jobs=1, n_neighbors=5, p=2,\n",
       "           weights='uniform'),\n",
       "       fit_params={}, iid=True, n_jobs=1,\n",
       "       param_grid=[{'n_neighbors': [3, 8, 13, 18, 23, 28, 33, 38, 43, 48, 53, 58, 63, 68], 'weights': ['uniform', 'distance']}],\n",
       "       pre_dispatch='2*n_jobs', refit=True, scoring=None, verbose=0)"
      ]
     },
     "execution_count": 152,
     "metadata": {},
     "output_type": "execute_result"
    }
   ],
   "source": [
    "from sklearn.grid_search import GridSearchCV\n",
    "\n",
    "# We'll try finding the best value of k, and weights by trying all possible pairs\n",
    "parameter_grid = [\n",
    "  {'n_neighbors': range(3, 70, 5), 'weights': ['uniform', 'distance']}\n",
    " ]\n",
    "\n",
    "clf = GridSearchCV(KNeighborsClassifier(), parameter_grid, cv=3)\n",
    "clf.fit(X_train, y_train)"
   ]
  },
  {
   "cell_type": "code",
   "execution_count": 153,
   "metadata": {
    "collapsed": false,
    "scrolled": true
   },
   "outputs": [
    {
     "name": "stdout",
     "output_type": "stream",
     "text": [
      "\n",
      "GRID SEARCH RESULTS:\n",
      "\tBest Parameters {'n_neighbors': 3, 'weights': 'distance'}\n",
      "\tBest Score 0.70515970516\n"
     ]
    },
    {
     "data": {
      "text/html": [
       "<div>\n",
       "<table border=\"1\" class=\"dataframe\">\n",
       "  <thead>\n",
       "    <tr style=\"text-align: right;\">\n",
       "      <th></th>\n",
       "      <th>parameters</th>\n",
       "      <th>mean_validation_score</th>\n",
       "    </tr>\n",
       "  </thead>\n",
       "  <tbody>\n",
       "    <tr>\n",
       "      <th>0</th>\n",
       "      <td>{u'n_neighbors': 3, u'weights': u'uniform'}</td>\n",
       "      <td>0.678747</td>\n",
       "    </tr>\n",
       "    <tr>\n",
       "      <th>1</th>\n",
       "      <td>{u'n_neighbors': 3, u'weights': u'distance'}</td>\n",
       "      <td>0.705160</td>\n",
       "    </tr>\n",
       "    <tr>\n",
       "      <th>2</th>\n",
       "      <td>{u'n_neighbors': 8, u'weights': u'uniform'}</td>\n",
       "      <td>0.641278</td>\n",
       "    </tr>\n",
       "    <tr>\n",
       "      <th>3</th>\n",
       "      <td>{u'n_neighbors': 8, u'weights': u'distance'}</td>\n",
       "      <td>0.664619</td>\n",
       "    </tr>\n",
       "    <tr>\n",
       "      <th>4</th>\n",
       "      <td>{u'n_neighbors': 13, u'weights': u'uniform'}</td>\n",
       "      <td>0.619779</td>\n",
       "    </tr>\n",
       "  </tbody>\n",
       "</table>\n",
       "</div>"
      ],
      "text/plain": [
       "                                     parameters  mean_validation_score\n",
       "0   {u'n_neighbors': 3, u'weights': u'uniform'}               0.678747\n",
       "1  {u'n_neighbors': 3, u'weights': u'distance'}               0.705160\n",
       "2   {u'n_neighbors': 8, u'weights': u'uniform'}               0.641278\n",
       "3  {u'n_neighbors': 8, u'weights': u'distance'}               0.664619\n",
       "4  {u'n_neighbors': 13, u'weights': u'uniform'}               0.619779"
      ]
     },
     "execution_count": 153,
     "metadata": {},
     "output_type": "execute_result"
    }
   ],
   "source": [
    "print\n",
    "print \"GRID SEARCH RESULTS:\"\n",
    "print \"\\tBest Parameters\", clf.best_params_\n",
    "print \"\\tBest Score\", clf.best_score_\n",
    "\n",
    "# A list of all scores are stored in clf.grid_scores_\n",
    "pd.DataFrame(clf.grid_scores_).drop('cv_validation_scores', axis=1).head()"
   ]
  },
  {
   "cell_type": "code",
   "execution_count": 154,
   "metadata": {
    "collapsed": false
   },
   "outputs": [
    {
     "data": {
      "text/html": [
       "<div>\n",
       "<table border=\"1\" class=\"dataframe\">\n",
       "  <thead>\n",
       "    <tr style=\"text-align: right;\">\n",
       "      <th></th>\n",
       "      <th>n_neighbors</th>\n",
       "      <th>weights</th>\n",
       "      <th>score</th>\n",
       "    </tr>\n",
       "  </thead>\n",
       "  <tbody>\n",
       "    <tr>\n",
       "      <th>0</th>\n",
       "      <td>3</td>\n",
       "      <td>uniform</td>\n",
       "      <td>0.678747</td>\n",
       "    </tr>\n",
       "    <tr>\n",
       "      <th>1</th>\n",
       "      <td>3</td>\n",
       "      <td>distance</td>\n",
       "      <td>0.705160</td>\n",
       "    </tr>\n",
       "    <tr>\n",
       "      <th>2</th>\n",
       "      <td>8</td>\n",
       "      <td>uniform</td>\n",
       "      <td>0.641278</td>\n",
       "    </tr>\n",
       "    <tr>\n",
       "      <th>3</th>\n",
       "      <td>8</td>\n",
       "      <td>distance</td>\n",
       "      <td>0.664619</td>\n",
       "    </tr>\n",
       "    <tr>\n",
       "      <th>4</th>\n",
       "      <td>13</td>\n",
       "      <td>uniform</td>\n",
       "      <td>0.619779</td>\n",
       "    </tr>\n",
       "  </tbody>\n",
       "</table>\n",
       "</div>"
      ],
      "text/plain": [
       "   n_neighbors   weights     score\n",
       "0            3   uniform  0.678747\n",
       "1            3  distance  0.705160\n",
       "2            8   uniform  0.641278\n",
       "3            8  distance  0.664619\n",
       "4           13   uniform  0.619779"
      ]
     },
     "execution_count": 154,
     "metadata": {},
     "output_type": "execute_result"
    }
   ],
   "source": [
    "# Cleanup the dataframe so we can plot\n",
    "scores_df = pd.DataFrame(columns=[\"n_neighbors\", \"weights\", \"score\"])\n",
    "\n",
    "for grid_score in clf.grid_scores_:\n",
    "    scores_df = scores_df.append({\n",
    "            \"n_neighbors\": grid_score.parameters[\"n_neighbors\"], \n",
    "            \"weights\": grid_score.parameters[\"weights\"], \n",
    "            \"score\": grid_score.mean_validation_score\n",
    "        }, ignore_index=True)\n",
    "\n",
    "\n",
    "scores_df[\"n_neighbors\"] = scores_df[\"n_neighbors\"].astype(np.int)\n",
    "scores_df.head()"
   ]
  },
  {
   "cell_type": "code",
   "execution_count": 155,
   "metadata": {
    "collapsed": false
   },
   "outputs": [
    {
     "data": {
      "image/png": "[encoded data removed]",
      "text/plain": [
       "<matplotlib.figure.Figure at 0x118b69d50>"
      ]
     },
     "metadata": {},
     "output_type": "display_data"
    }
   ],
   "source": [
    "plt.figure(figsize=(18, 10))\n",
    "sns.pointplot(data=scores_df, x=\"n_neighbors\", y=\"score\", hue=\"weights\", scale=0.4);"
   ]
  },
  {
   "cell_type": "markdown",
   "metadata": {},
   "source": [
    "## Exercise\n",
    "\n",
    "1. Given the above distribution of newsgroups (the `y`s), what is reasonable accuracy to expect? What would a naive classier's (guess the most common class) accuracy be?\n",
    "1. Try out different models, testing their cross-validated accuracy. \n",
    "1. Repeat the previous step F1-score and AUC score in addition to accuracy\n",
    "1. Try out different options (such as regularization parameters, kernels, etc.)\n",
    "1. Try out different text vectorizers and options\n",
    "1. If you find a model you like, try different categories (or all of them) and see if this impacts your performance\n",
    "1. Try to interpret its learned parameters and plot some nice insights"
   ]
  },
  {
   "cell_type": "code",
   "execution_count": 187,
   "metadata": {
    "collapsed": false
   },
   "outputs": [
    {
     "name": "stdout",
     "output_type": "stream",
     "text": [
      "\n",
      "Count Vectorized Input:\n",
      "Rand Forest Mean accuracy: 0.877076411782\n",
      "Rand Forest Mean f1 score: 0.874606803129\n",
      "Dec. Trees Mean Accuracy Score 0.814118552225\n",
      "Dec. Trees Mean F! Scores 0.81129695979\n",
      "LogReg Accuracy 0.948381980015\n",
      "LogReg F1 0.948282775126\n",
      "\\TfIdf Vectorized Input:\n",
      "Rand Forest Mean accuracy: 0.869200570925\n",
      "Rand Forest Mean f1 score: 0.857980441551\n",
      "Dec. Trees Mean Accuracy Score 0.777276621475\n",
      "Dec. Trees Mean F! Scores 0.772204344604\n",
      "LogReg Accuracy 0.923798427433\n",
      "LogReg F1 0.923072637882\n"
     ]
    }
   ],
   "source": [
    "tfidf = CountVectorizer()  # or TfidfVectorizer, or different options\n",
    "X = tfidf.fit_transform(newsgroups.data)\n",
    "\n",
    "def try_models():\n",
    "    # 1. Try out different models, testing their cross-validated accuracy. \n",
    "\n",
    "    # Random Forest\n",
    "    model = RandomForestClassifier(n_estimators=50)\n",
    "\n",
    "    accuracy_scores = cross_val_score(model, X, y, scoring='accuracy', cv=5)\n",
    "    f1_scores = cross_val_score(model, X, y, scoring='f1_weighted', cv=5)\n",
    "\n",
    "    print \"Rand Forest Mean accuracy:\", accuracy_scores.mean()\n",
    "    print \"Rand Forest Mean f1 score:\", f1_scores.mean()\n",
    "\n",
    "    # DecisionTrees\n",
    "    model = DecisionTreeClassifier()\n",
    "\n",
    "    dt_accuracy_scores = cross_val_score(model, X, y, scoring='accuracy', cv=5)\n",
    "    dt_f1_scores = cross_val_score(model, X, y, scoring='f1_weighted', cv=5)\n",
    "\n",
    "\n",
    "    print \"Dec. Trees Mean Accuracy Score\", dt_accuracy_scores.mean()\n",
    "    print \"Dec. Trees Mean F! Scores\", dt_f1_scores.mean()\n",
    "\n",
    "    # LogReg\n",
    "    from sklearn.multiclass import OneVsRestClassifier\n",
    "\n",
    "    clf = OneVsRestClassifier(LogisticRegression())\n",
    "\n",
    "    logreg_accuracy_scores = cross_val_score(clf, X, y, scoring='accuracy', cv=5)\n",
    "    logreg_f1_scores = cross_val_score(clf, X, y, scoring='f1_weighted', cv=5)\n",
    "\n",
    "    print \"LogReg Accuracy\", logreg_accuracy_scores.mean()\n",
    "    print \"LogReg F1\", logreg_f1_scores.mean()\n",
    "    \n",
    "    \n",
    "print \"\\nCount Vectorized Input:\"\n",
    "cv = CountVectorizer()  # or TfidfVectorizer, or different options\n",
    "X = cv.fit_transform(newsgroups.data)\n",
    "\n",
    "try_models()\n",
    "\n",
    "print \"\\nTfIdf Vectorized Input:\"\n",
    "tfidf = TfidfVectorizer()  # or TfidfVectorizer, or different options\n",
    "X = tfidf.fit_transform(newsgroups.data)\n",
    "\n",
    "try_models()"
   ]
  },
  {
   "cell_type": "markdown",
   "metadata": {},
   "source": [
    "## Bonus\n",
    "1. Evaluate all 4 models in a single step using GridSearch\n",
    "\n",
    "For interpretation, recall that\n",
    "- LogisticRegression gives you coefficients for the log odds of the corresponding feature\n",
    "- Random Forests and Decision Trees give you feature importances"
   ]
  },
  {
   "cell_type": "code",
   "execution_count": 7,
   "metadata": {
    "collapsed": true
   },
   "outputs": [],
   "source": [
    "# Your code here"
   ]
  },
  {
   "cell_type": "code",
   "execution_count": null,
   "metadata": {
    "collapsed": true
   },
   "outputs": [],
   "source": []
  },
  {
   "cell_type": "code",
   "execution_count": null,
   "metadata": {
    "collapsed": true
   },
   "outputs": [],
   "source": []
  },
  {
   "cell_type": "code",
   "execution_count": null,
   "metadata": {
    "collapsed": true
   },
   "outputs": [],
   "source": []
  },
  {
   "cell_type": "code",
   "execution_count": null,
   "metadata": {
    "collapsed": true
   },
   "outputs": [],
   "source": []
  }
 ],
 "metadata": {
  "kernelspec": {
   "display_name": "Python 2",
   "language": "python",
   "name": "python2"
  },
  "language_info": {
   "codemirror_mode": {
    "name": "ipython",
    "version": 2
   },
   "file_extension": ".py",
   "mimetype": "text/x-python",
   "name": "python",
   "nbconvert_exporter": "python",
   "pygments_lexer": "ipython2",
   "version": "2.7.11"
  }
 },
 "nbformat": 4,
 "nbformat_minor": 0
}
